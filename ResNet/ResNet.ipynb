{
 "cells": [
  {
   "cell_type": "code",
   "execution_count": null,
   "metadata": {},
   "outputs": [],
   "source": [
    "import tensorflow as tf\n",
    "import tensorflow.keras as keras\n",
    "import tensorflow.keras.layers as layers\n",
    "\n",
    "from tensorflow.keras.applications.resnet_v2 import ResNet101V2\n"
   ]
  },
  {
   "attachments": {},
   "cell_type": "markdown",
   "metadata": {},
   "source": [
    "# ChatGPT Implementation of Pre-processing\n",
    "\n",
    "```Python\n",
    "\n",
    "from tensorflow.keras.preprocessing.image import ImageDataGenerator\n",
    "\n",
    "train_data_gen = ImageDataGenerator(rescale=1./255,\n",
    "    rotation_range=20,\n",
    "    zoom_range=0.15,\n",
    "    width_shift_range=0.2,\n",
    "    height_shift_range=0.2,\n",
    "    shear_range=0.15,\n",
    "    horizontal_flip=True,\n",
    "    fill_mode=\"nearest\")\n",
    "\n",
    "  \n",
    "\n",
    "train_generator = train_data_gen.flow_from_directory(\n",
    "    directory='path/to/training/dataset',\n",
    "    target_size=(224, 224),\n",
    "    color_mode='rgb',\n",
    "    batch_size=32,\n",
    "    class_mode='categorical',\n",
    "    shuffle=True,\n",
    "    seed=42)\n",
    "\n",
    "```\n",
    "\n",
    "# Important URLs\n",
    "\n",
    "- [Intro to Keras for Engineers](https://keras.io/getting_started/intro_to_keras_for_engineers/)\n",
    "- [Image Classification from Scratch Example](https://keras.io/examples/vision/image_classification_from_scratch/)\n",
    "\n",
    "- [keras.io/getting_started](https://keras.io/getting_started/)"
   ]
  }
 ],
 "metadata": {
  "kernelspec": {
   "display_name": "base",
   "language": "python",
   "name": "python3"
  },
  "language_info": {
   "name": "python",
   "version": "3.9.13"
  },
  "orig_nbformat": 4
 },
 "nbformat": 4,
 "nbformat_minor": 2
}
